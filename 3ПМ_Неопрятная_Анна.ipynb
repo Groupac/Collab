{
  "nbformat": 4,
  "nbformat_minor": 0,
  "metadata": {
    "colab": {
      "name": "3ПМ Неопрятная Анна.ipynb",
      "provenance": [],
      "authorship_tag": "ABX9TyNbZezAwEIPt8aqGdBLLD0H",
      "include_colab_link": true
    },
    "kernelspec": {
      "name": "python3",
      "display_name": "Python 3"
    }
  },
  "cells": [
    {
      "cell_type": "markdown",
      "metadata": {
        "id": "view-in-github",
        "colab_type": "text"
      },
      "source": [
        "<a href=\"https://colab.research.google.com/github/Groupac/Collab/blob/master/3%D0%9F%D0%9C_%D0%9D%D0%B5%D0%BE%D0%BF%D1%80%D1%8F%D1%82%D0%BD%D0%B0%D1%8F_%D0%90%D0%BD%D0%BD%D0%B0.ipynb\" target=\"_parent\"><img src=\"https://colab.research.google.com/assets/colab-badge.svg\" alt=\"Open In Colab\"/></a>"
      ]
    },
    {
      "cell_type": "markdown",
      "metadata": {
        "id": "gZCE6nZWQZBd"
      },
      "source": [
        "#Построение плотности распределения вероятности и функции распределения для распределения Коши"
      ]
    },
    {
      "cell_type": "code",
      "metadata": {
        "id": "SqUMXfJSSRY_",
        "outputId": "7eb7b86d-e49b-4be9-b644-fd06b49804b3",
        "colab": {
          "base_uri": "https://localhost:8080/"
        }
      },
      "source": [
        "import numpy as np\n",
        "from numpy.random import uniform\n",
        "import matplotlib.pyplot as plt\n",
        "from math import factorial\n",
        "from math import pi\n",
        "import math\n",
        "x = np.linspace(-10, 10,1000)\n",
        "Tetta=float(input(\"Введите Тетта:\"))\n",
        "y1=[]\n",
        "y2=[]\n",
        "sum=0\n",
        "for i in x:\n",
        "  y1+= [Tetta/(pi*(Tetta*Tetta+i*i))]\n",
        "  y2+=[(1/pi)*math.atan2(i,Tetta)+1/2]\n",
        "\n",
        "fig = plt.figure()\n",
        "ax1 = fig.add_subplot(211)\n",
        "ax2 = fig.add_subplot(212)\n",
        "ax1.plot(x, y1)\n",
        "ax2.plot(x, y2)"
      ],
      "execution_count": null,
      "outputs": [
        {
          "output_type": "stream",
          "text": [
            "Введите Тетта:1\n"
          ],
          "name": "stdout"
        },
        {
          "output_type": "execute_result",
          "data": {
            "text/plain": [
              "[<matplotlib.lines.Line2D at 0x7f506aec1f98>]"
            ]
          },
          "metadata": {
            "tags": []
          },
          "execution_count": 47
        },
        {
          "output_type": "display_data",
          "data": {
            "image/png": "[encoded data removed]",
            "text/plain": [
              "<Figure size 432x288 with 2 Axes>"
            ]
          },
          "metadata": {
            "tags": [],
            "needs_background": "light"
          }
        }
      ]
    },
    {
      "cell_type": "markdown",
      "metadata": {
        "id": "ayGud1i-RCp8"
      },
      "source": [
        "#Построение функции распределения для распределения Бернулли\n"
      ]
    },
    {
      "cell_type": "code",
      "metadata": {
        "id": "YB90rNpnS0oq",
        "outputId": "ce21ffbd-0dc2-4d43-d4ab-6d122b89c4d3",
        "colab": {
          "base_uri": "https://localhost:8080/"
        }
      },
      "source": [
        "import numpy as np\n",
        "from numpy.random import uniform\n",
        "import matplotlib.pyplot as plt\n",
        "p=float(input(\"Введите p:\"))\n",
        "x1=[0,1]\n",
        "x2=[1,2]\n",
        "x3=[-1,0]\n",
        "y3=[0,0]\n",
        "y1=[1-p,1-p]\n",
        "y2 = [1,1]\n",
        "plt.axis([-1,2,0,2])\n",
        "plt.scatter(0,1-p, color=\"Black\", s=35, marker = \"o\")  \n",
        "plt.scatter(1,1, color=\"Black\", s=35, marker = \"o\")\n",
        "plt.plot(x1, y1,color=\"Black\")\n",
        "plt.plot(x2, y2,color=\"Black\")\n",
        "plt.plot(x3, y3,color=\"Black\")"
      ],
      "execution_count": null,
      "outputs": [
        {
          "output_type": "stream",
          "text": [
            "Введите p:0.6\n"
          ],
          "name": "stdout"
        },
        {
          "output_type": "execute_result",
          "data": {
            "text/plain": [
              "[<matplotlib.lines.Line2D at 0x7f506affb780>]"
            ]
          },
          "metadata": {
            "tags": []
          },
          "execution_count": 45
        },
        {
          "output_type": "display_data",
          "data": {
            "image/png": "[encoded data removed]",
            "text/plain": [
              "<Figure size 432x288 with 1 Axes>"
            ]
          },
          "metadata": {
            "tags": [],
            "needs_background": "light"
          }
        }
      ]
    },
    {
      "cell_type": "markdown",
      "metadata": {
        "id": "-RkItQeB1osM"
      },
      "source": [
        "#Гистограмма и плотность расределения для экспоненциального распределения"
      ]
    },
    {
      "cell_type": "code",
      "metadata": {
        "id": "QntiNq3x4nB5",
        "outputId": "07efbc2c-d0af-49eb-863f-d591b7ef4b03",
        "colab": {
          "base_uri": "https://localhost:8080/",
          "height": 369
        }
      },
      "source": [
        "import numpy as np\n",
        "import matplotlib.pyplot as plt\n",
        "from scipy.stats import expon\n",
        "\n",
        "N = 10000\n",
        "\n",
        "lamda = 1\n",
        "x = np.random.exponential(lamda, N)\n",
        "plt.hist(x, bins=100,density=True)\n",
        "\n",
        "xs = np.arange(0, 10, 0.001)\n",
        "plt.plot(xs, expon.pdf(xs),\"red\")\n",
        "\n",
        "EX=lamda**(-1)\n",
        "DX=lamda**(-2)\n",
        "X_=x.sum()/N\n",
        "print(\"математическое ожидание:\",EX,\"выборочное среднее:\",X_,\"разница:\",abs(EX-X_),sep='\\n')\n",
        "plt.show()"
      ],
      "execution_count": null,
      "outputs": [
        {
          "output_type": "stream",
          "text": [
            "математическое ожидание:\n",
            "1.0\n",
            "выборочное среднее:\n",
            "0.9909435743271789\n",
            "разница:\n",
            "0.009056425672821056\n"
          ],
          "name": "stdout"
        },
        {
          "output_type": "display_data",
          "data": {
            "image/png": "[encoded data removed]",
            "text/plain": [
              "<Figure size 432x288 with 1 Axes>"
            ]
          },
          "metadata": {
            "tags": [],
            "needs_background": "light"
          }
        }
      ]
    },
    {
      "cell_type": "code",
      "metadata": {
        "id": "SnhD67vMSlRA",
        "outputId": "d2a9ebf2-9f2d-4224-ff43-37c7824f41c0",
        "colab": {
          "base_uri": "https://localhost:8080/",
          "height": 265
        }
      },
      "source": [
        "import numpy as np\n",
        "import matplotlib.pyplot as plt\n",
        "from scipy.stats import norm\n",
        "\n",
        "N = 50\n",
        "\n",
        "xs = np.arange(-3, 3, 0.001)\n",
        "plt.plot(xs, norm.cdf(xs))\n",
        "\n",
        "mu, sigma = 0, 1\n",
        "x = np.random.normal(mu, sigma, N)\n",
        "#plt.hist(x, bins=100)\n",
        "\n",
        "x_var=list(x)+list(x)\n",
        "x_var = np.sort(x_var)\n",
        "x_var = [-3]+list(x_var)+[3]\n",
        "y = np.arange(1, x.size+1) / x.size\n",
        "y1=[0,0]\n",
        "for i in y:\n",
        "  y1.append(i)\n",
        "  y1.append(i)\n",
        "plt.plot(x_var, y1, color=\"red\")\n",
        "\n",
        "plt.show()"
      ],
      "execution_count": null,
      "outputs": [
        {
          "output_type": "display_data",
          "data": {
            "image/png": "[encoded data removed]",
            "text/plain": [
              "<Figure size 432x288 with 1 Axes>"
            ]
          },
          "metadata": {
            "tags": [],
            "needs_background": "light"
          }
        }
      ]
    },
    {
      "cell_type": "markdown",
      "metadata": {
        "id": "cYm3ebju8-Ip"
      },
      "source": [
        "#Задачи на 11.11"
      ]
    },
    {
      "cell_type": "markdown",
      "metadata": {
        "id": "BDVA-nTV9Ihw"
      },
      "source": [
        "1. Для распределения Пуассона $\\lambda$ - это математическое ожидание, а значит можно оценить $\\lambda$ выборочным средним, то есть $\\lambda = \\frac{1}{N}\\sum x_i n_i = \\frac{0+39+80+72+44+35}{130}=\\frac{270}{130}=2\\frac{1}{13}$ "
      ]
    },
    {
      "cell_type": "code",
      "metadata": {
        "id": "riuijIbY9Gq0",
        "outputId": "4e2d16a5-3527-4d67-eca1-992564879f8c",
        "colab": {
          "base_uri": "https://localhost:8080/",
          "height": 592
        }
      },
      "source": [
        "# 2 задача\n",
        "import numpy as np\n",
        "import matplotlib.pyplot as plt\n",
        "from scipy.stats import norm\n",
        "import math\n",
        "\n",
        "\n",
        "N = 100\n",
        "M = 1000\n",
        "xs = 0.2\n",
        "mu = 3\n",
        "sigma = 1\n",
        "\n",
        "'''a1 = np.array([])\n",
        "a2 = np.array([])\n",
        "\n",
        "for _ in range(M):\n",
        "    x = np.random.normal(mu, sigma, N)\n",
        "    a1 = np.append(a1, (N**0.5)*(np.mean(x) - mu)/sigma)\n",
        "    a2 = np.append(a2, (np.mean(x)))\n",
        "'''\n",
        "\n",
        "fig = plt.figure(figsize=(5, 10))\n",
        "ax1 = fig.add_subplot(211)\n",
        "ax2 = fig.add_subplot(212)\n",
        "'''\n",
        "ax1.hist(a1, bins = 20, density=True)\n",
        "b1 = np.linspace(-3, 3, 1000)\n",
        "ax1.plot(b1, norm.pdf(b1))\n",
        "ax1.vlines(norm.ppf(1-0.05), 0, 0.1)\n",
        "ax1.vlines(-norm.ppf(1-0.05), 0, 0.1)'''\n",
        "\n",
        "b2=np.random.normal(mu,sigma,N)\n",
        "ax1.hist(b2, bins = 30, density=True)\n",
        "ax1.vlines(np.mean(b2)-(sigma*norm.ppf(1-0.025))/(N**0.5), 0, 0.1)\n",
        "ax1.vlines(np.mean(b2)+(sigma*norm.ppf(1-0.025))/(N**0.5), 0, 0.1)\n",
        "\n",
        "sigma1=(N/(N-1))*np.var(b2)\n",
        "ax2.hist(b2, bins = 30, density=True)\n",
        "ax2.vlines(np.mean(b2)-(np.sqrt(sigma1)*1.984)/(N**0.5), 0, 0.1)\n",
        "ax2.vlines(np.mean(b2)+(np.sqrt(sigma1)*1.984)/(N**0.5), 0, 0.1)\n",
        "\n",
        "plt.show()"
      ],
      "execution_count": 50,
      "outputs": [
        {
          "output_type": "display_data",
          "data": {
            "image/png": "[encoded data removed]",
            "text/plain": [
              "<Figure size 360x720 with 2 Axes>"
            ]
          },
          "metadata": {
            "tags": [],
            "needs_background": "light"
          }
        }
      ]
    }
  ]
}