{
  "nbformat": 4,
  "nbformat_minor": 0,
  "metadata": {
    "colab": {
      "name": "3ПМ Неопрятная Анна.ipynb",
      "provenance": [],
      "authorship_tag": "ABX9TyMOUe042lZab3EZ2G5Qu9lQ",
      "include_colab_link": true
    },
    "kernelspec": {
      "name": "python3",
      "display_name": "Python 3"
    }
  },
  "cells": [
    {
      "cell_type": "markdown",
      "metadata": {
        "id": "view-in-github",
        "colab_type": "text"
      },
      "source": [
        "<a href=\"https://colab.research.google.com/github/Groupac/Collab/blob/master/3%D0%9F%D0%9C_%D0%9D%D0%B5%D0%BE%D0%BF%D1%80%D1%8F%D1%82%D0%BD%D0%B0%D1%8F_%D0%90%D0%BD%D0%BD%D0%B0.ipynb\" target=\"_parent\"><img src=\"https://colab.research.google.com/assets/colab-badge.svg\" alt=\"Open In Colab\"/></a>"
      ]
    },
    {
      "cell_type": "markdown",
      "metadata": {
        "id": "gZCE6nZWQZBd"
      },
      "source": [
        "#Построение плотности распределения вероятности и функции распределения для распределения Коши"
      ]
    },
    {
      "cell_type": "code",
      "metadata": {
        "colab": {
          "base_uri": "https://localhost:8080/"
        },
        "id": "tpohc8HS4DeF",
        "outputId": "d3348f3f-d9f6-4f1c-98cf-21f8eb43851b"
      },
      "source": [
        "x = np.random.normal(1, 2, 20)\r\n",
        "y = np.random.normal(2, 2, 20) \r\n",
        "t = (20*20/(20+20))**0.5 * (x.mean() - y.mean()) / 2\r\n",
        "p = 2 * (1 - stats.norm.cdf(np.abs(t)))\r\n",
        "\r\n",
        "t, p"
      ],
      "execution_count": null,
      "outputs": [
        {
          "output_type": "execute_result",
          "data": {
            "text/plain": [
              "(-3.570640907577792, 0.0003561088214552033)"
            ]
          },
          "metadata": {
            "tags": []
          },
          "execution_count": 10
        }
      ]
    },
    {
      "cell_type": "code",
      "metadata": {
        "colab": {
          "base_uri": "https://localhost:8080/"
        },
        "id": "FUiLU8HF43wv",
        "outputId": "4d22b2ae-812b-445b-9840-95b90941a297"
      },
      "source": [
        "x = np.random.normal(1, 2, 20)\r\n",
        "y = np.random.normal(2, 2, 20) \r\n",
        "t = ((20*20/(20+20))**0.5)*(x.mean()-y.mean())/(((20*x.var()+20*y.var())/(20+20-2))**0.5) \r\n",
        "p = 2 * (1 - stats.t.cdf(np.abs(t), 20+20-2))\r\n",
        "\r\n",
        "t, p"
      ],
      "execution_count": null,
      "outputs": [
        {
          "output_type": "execute_result",
          "data": {
            "text/plain": [
              "(-0.7278721544380473, 0.471153307613956)"
            ]
          },
          "metadata": {
            "tags": []
          },
          "execution_count": 9
        }
      ]
    },
    {
      "cell_type": "code",
      "metadata": {
        "id": "SqUMXfJSSRY_",
        "colab": {
          "base_uri": "https://localhost:8080/",
          "height": 572
        },
        "outputId": "dec5a161-8d66-4b02-cebb-4b114430eae3"
      },
      "source": [
        "import numpy as np\n",
        "from numpy.random import uniform\n",
        "import matplotlib.pyplot as plt\n",
        "from math import factorial\n",
        "from math import pi\n",
        "import math\n",
        "x = np.linspace(-10, 10,1000)\n",
        "Tetta=float(input(\"Введите Тетта:\"))\n",
        "y1=[]\n",
        "y2=[]\n",
        "sum=0\n",
        "for i in x:\n",
        "  y1+= [Tetta/(pi*(Tetta*Tetta+i*i))]\n",
        "  y2+=[(1/pi)*math.atan2(i,Tetta)+1/2]\n",
        "\n",
        "fig = plt.figure()\n",
        "ax1 = fig.add_subplot(211)\n",
        "ax2 = fig.add_subplot(212)\n",
        "ax1.plot(x, y1)\n",
        "ax2.plot(x, y2)"
      ],
      "execution_count": null,
      "outputs": [
        {
          "output_type": "error",
          "ename": "KeyboardInterrupt",
          "evalue": "ignored",
          "traceback": [
            "\u001b[0;31m---------------------------------------------------------------------------\u001b[0m",
            "\u001b[0;31mKeyboardInterrupt\u001b[0m                         Traceback (most recent call last)",
            "\u001b[0;32m/usr/local/lib/python3.6/dist-packages/ipykernel/kernelbase.py\u001b[0m in \u001b[0;36m_input_request\u001b[0;34m(self, prompt, ident, parent, password)\u001b[0m\n\u001b[1;32m    728\u001b[0m             \u001b[0;32mtry\u001b[0m\u001b[0;34m:\u001b[0m\u001b[0;34m\u001b[0m\u001b[0;34m\u001b[0m\u001b[0m\n\u001b[0;32m--> 729\u001b[0;31m                 \u001b[0mident\u001b[0m\u001b[0;34m,\u001b[0m \u001b[0mreply\u001b[0m \u001b[0;34m=\u001b[0m \u001b[0mself\u001b[0m\u001b[0;34m.\u001b[0m\u001b[0msession\u001b[0m\u001b[0;34m.\u001b[0m\u001b[0mrecv\u001b[0m\u001b[0;34m(\u001b[0m\u001b[0mself\u001b[0m\u001b[0;34m.\u001b[0m\u001b[0mstdin_socket\u001b[0m\u001b[0;34m,\u001b[0m \u001b[0;36m0\u001b[0m\u001b[0;34m)\u001b[0m\u001b[0;34m\u001b[0m\u001b[0;34m\u001b[0m\u001b[0m\n\u001b[0m\u001b[1;32m    730\u001b[0m             \u001b[0;32mexcept\u001b[0m \u001b[0mException\u001b[0m\u001b[0;34m:\u001b[0m\u001b[0;34m\u001b[0m\u001b[0;34m\u001b[0m\u001b[0m\n",
            "\u001b[0;32m/usr/local/lib/python3.6/dist-packages/jupyter_client/session.py\u001b[0m in \u001b[0;36mrecv\u001b[0;34m(self, socket, mode, content, copy)\u001b[0m\n\u001b[1;32m    802\u001b[0m         \u001b[0;32mtry\u001b[0m\u001b[0;34m:\u001b[0m\u001b[0;34m\u001b[0m\u001b[0;34m\u001b[0m\u001b[0m\n\u001b[0;32m--> 803\u001b[0;31m             \u001b[0mmsg_list\u001b[0m \u001b[0;34m=\u001b[0m \u001b[0msocket\u001b[0m\u001b[0;34m.\u001b[0m\u001b[0mrecv_multipart\u001b[0m\u001b[0;34m(\u001b[0m\u001b[0mmode\u001b[0m\u001b[0;34m,\u001b[0m \u001b[0mcopy\u001b[0m\u001b[0;34m=\u001b[0m\u001b[0mcopy\u001b[0m\u001b[0;34m)\u001b[0m\u001b[0;34m\u001b[0m\u001b[0;34m\u001b[0m\u001b[0m\n\u001b[0m\u001b[1;32m    804\u001b[0m         \u001b[0;32mexcept\u001b[0m \u001b[0mzmq\u001b[0m\u001b[0;34m.\u001b[0m\u001b[0mZMQError\u001b[0m \u001b[0;32mas\u001b[0m \u001b[0me\u001b[0m\u001b[0;34m:\u001b[0m\u001b[0;34m\u001b[0m\u001b[0;34m\u001b[0m\u001b[0m\n",
            "\u001b[0;32m/usr/local/lib/python3.6/dist-packages/zmq/sugar/socket.py\u001b[0m in \u001b[0;36mrecv_multipart\u001b[0;34m(self, flags, copy, track)\u001b[0m\n\u001b[1;32m    565\u001b[0m         \"\"\"\n\u001b[0;32m--> 566\u001b[0;31m         \u001b[0mparts\u001b[0m \u001b[0;34m=\u001b[0m \u001b[0;34m[\u001b[0m\u001b[0mself\u001b[0m\u001b[0;34m.\u001b[0m\u001b[0mrecv\u001b[0m\u001b[0;34m(\u001b[0m\u001b[0mflags\u001b[0m\u001b[0;34m,\u001b[0m \u001b[0mcopy\u001b[0m\u001b[0;34m=\u001b[0m\u001b[0mcopy\u001b[0m\u001b[0;34m,\u001b[0m \u001b[0mtrack\u001b[0m\u001b[0;34m=\u001b[0m\u001b[0mtrack\u001b[0m\u001b[0;34m)\u001b[0m\u001b[0;34m]\u001b[0m\u001b[0;34m\u001b[0m\u001b[0;34m\u001b[0m\u001b[0m\n\u001b[0m\u001b[1;32m    567\u001b[0m         \u001b[0;31m# have first part already, only loop while more to receive\u001b[0m\u001b[0;34m\u001b[0m\u001b[0;34m\u001b[0m\u001b[0;34m\u001b[0m\u001b[0m\n",
            "\u001b[0;32mzmq/backend/cython/socket.pyx\u001b[0m in \u001b[0;36mzmq.backend.cython.socket.Socket.recv\u001b[0;34m()\u001b[0m\n",
            "\u001b[0;32mzmq/backend/cython/socket.pyx\u001b[0m in \u001b[0;36mzmq.backend.cython.socket.Socket.recv\u001b[0;34m()\u001b[0m\n",
            "\u001b[0;32mzmq/backend/cython/socket.pyx\u001b[0m in \u001b[0;36mzmq.backend.cython.socket._recv_copy\u001b[0;34m()\u001b[0m\n",
            "\u001b[0;32m/usr/local/lib/python3.6/dist-packages/zmq/backend/cython/checkrc.pxd\u001b[0m in \u001b[0;36mzmq.backend.cython.checkrc._check_rc\u001b[0;34m()\u001b[0m\n",
            "\u001b[0;31mKeyboardInterrupt\u001b[0m: ",
            "\nDuring handling of the above exception, another exception occurred:\n",
            "\u001b[0;31mKeyboardInterrupt\u001b[0m                         Traceback (most recent call last)",
            "\u001b[0;32m<ipython-input-2-391004b6592c>\u001b[0m in \u001b[0;36m<module>\u001b[0;34m()\u001b[0m\n\u001b[1;32m      6\u001b[0m \u001b[0;32mimport\u001b[0m \u001b[0mmath\u001b[0m\u001b[0;34m\u001b[0m\u001b[0;34m\u001b[0m\u001b[0m\n\u001b[1;32m      7\u001b[0m \u001b[0mx\u001b[0m \u001b[0;34m=\u001b[0m \u001b[0mnp\u001b[0m\u001b[0;34m.\u001b[0m\u001b[0mlinspace\u001b[0m\u001b[0;34m(\u001b[0m\u001b[0;34m-\u001b[0m\u001b[0;36m10\u001b[0m\u001b[0;34m,\u001b[0m \u001b[0;36m10\u001b[0m\u001b[0;34m,\u001b[0m\u001b[0;36m1000\u001b[0m\u001b[0;34m)\u001b[0m\u001b[0;34m\u001b[0m\u001b[0;34m\u001b[0m\u001b[0m\n\u001b[0;32m----> 8\u001b[0;31m \u001b[0mTetta\u001b[0m\u001b[0;34m=\u001b[0m\u001b[0mfloat\u001b[0m\u001b[0;34m(\u001b[0m\u001b[0minput\u001b[0m\u001b[0;34m(\u001b[0m\u001b[0;34m\"Введите Тетта:\"\u001b[0m\u001b[0;34m)\u001b[0m\u001b[0;34m)\u001b[0m\u001b[0;34m\u001b[0m\u001b[0;34m\u001b[0m\u001b[0m\n\u001b[0m\u001b[1;32m      9\u001b[0m \u001b[0my1\u001b[0m\u001b[0;34m=\u001b[0m\u001b[0;34m[\u001b[0m\u001b[0;34m]\u001b[0m\u001b[0;34m\u001b[0m\u001b[0;34m\u001b[0m\u001b[0m\n\u001b[1;32m     10\u001b[0m \u001b[0my2\u001b[0m\u001b[0;34m=\u001b[0m\u001b[0;34m[\u001b[0m\u001b[0;34m]\u001b[0m\u001b[0;34m\u001b[0m\u001b[0;34m\u001b[0m\u001b[0m\n",
            "\u001b[0;32m/usr/local/lib/python3.6/dist-packages/ipykernel/kernelbase.py\u001b[0m in \u001b[0;36mraw_input\u001b[0;34m(self, prompt)\u001b[0m\n\u001b[1;32m    702\u001b[0m             \u001b[0mself\u001b[0m\u001b[0;34m.\u001b[0m\u001b[0m_parent_ident\u001b[0m\u001b[0;34m,\u001b[0m\u001b[0;34m\u001b[0m\u001b[0;34m\u001b[0m\u001b[0m\n\u001b[1;32m    703\u001b[0m             \u001b[0mself\u001b[0m\u001b[0;34m.\u001b[0m\u001b[0m_parent_header\u001b[0m\u001b[0;34m,\u001b[0m\u001b[0;34m\u001b[0m\u001b[0;34m\u001b[0m\u001b[0m\n\u001b[0;32m--> 704\u001b[0;31m             \u001b[0mpassword\u001b[0m\u001b[0;34m=\u001b[0m\u001b[0;32mFalse\u001b[0m\u001b[0;34m,\u001b[0m\u001b[0;34m\u001b[0m\u001b[0;34m\u001b[0m\u001b[0m\n\u001b[0m\u001b[1;32m    705\u001b[0m         )\n\u001b[1;32m    706\u001b[0m \u001b[0;34m\u001b[0m\u001b[0m\n",
            "\u001b[0;32m/usr/local/lib/python3.6/dist-packages/ipykernel/kernelbase.py\u001b[0m in \u001b[0;36m_input_request\u001b[0;34m(self, prompt, ident, parent, password)\u001b[0m\n\u001b[1;32m    732\u001b[0m             \u001b[0;32mexcept\u001b[0m \u001b[0mKeyboardInterrupt\u001b[0m\u001b[0;34m:\u001b[0m\u001b[0;34m\u001b[0m\u001b[0;34m\u001b[0m\u001b[0m\n\u001b[1;32m    733\u001b[0m                 \u001b[0;31m# re-raise KeyboardInterrupt, to truncate traceback\u001b[0m\u001b[0;34m\u001b[0m\u001b[0;34m\u001b[0m\u001b[0;34m\u001b[0m\u001b[0m\n\u001b[0;32m--> 734\u001b[0;31m                 \u001b[0;32mraise\u001b[0m \u001b[0mKeyboardInterrupt\u001b[0m\u001b[0;34m\u001b[0m\u001b[0;34m\u001b[0m\u001b[0m\n\u001b[0m\u001b[1;32m    735\u001b[0m             \u001b[0;32melse\u001b[0m\u001b[0;34m:\u001b[0m\u001b[0;34m\u001b[0m\u001b[0;34m\u001b[0m\u001b[0m\n\u001b[1;32m    736\u001b[0m                 \u001b[0;32mbreak\u001b[0m\u001b[0;34m\u001b[0m\u001b[0;34m\u001b[0m\u001b[0m\n",
            "\u001b[0;31mKeyboardInterrupt\u001b[0m: "
          ]
        }
      ]
    },
    {
      "cell_type": "markdown",
      "metadata": {
        "id": "ayGud1i-RCp8"
      },
      "source": [
        "#Построение функции распределения для распределения Бернулли\n"
      ]
    },
    {
      "cell_type": "code",
      "metadata": {
        "id": "YB90rNpnS0oq",
        "colab": {
          "base_uri": "https://localhost:8080/"
        },
        "outputId": "ce21ffbd-0dc2-4d43-d4ab-6d122b89c4d3"
      },
      "source": [
        "import numpy as np\n",
        "from numpy.random import uniform\n",
        "import matplotlib.pyplot as plt\n",
        "p=float(input(\"Введите p:\"))\n",
        "x1=[0,1]\n",
        "x2=[1,2]\n",
        "x3=[-1,0]\n",
        "y3=[0,0]\n",
        "y1=[1-p,1-p]\n",
        "y2 = [1,1]\n",
        "plt.axis([-1,2,0,2])\n",
        "plt.scatter(0,1-p, color=\"Black\", s=35, marker = \"o\")  \n",
        "plt.scatter(1,1, color=\"Black\", s=35, marker = \"o\")\n",
        "plt.plot(x1, y1,color=\"Black\")\n",
        "plt.plot(x2, y2,color=\"Black\")\n",
        "plt.plot(x3, y3,color=\"Black\")"
      ],
      "execution_count": null,
      "outputs": [
        {
          "output_type": "stream",
          "text": [
            "Введите p:0.6\n"
          ],
          "name": "stdout"
        },
        {
          "output_type": "execute_result",
          "data": {
            "text/plain": [
              "[<matplotlib.lines.Line2D at 0x7f506affb780>]"
            ]
          },
          "metadata": {
            "tags": []
          },
          "execution_count": 45
        },
        {
          "output_type": "display_data",
          "data": {
            "image/png": "[encoded data removed]",
            "text/plain": [
              "<Figure size 432x288 with 1 Axes>"
            ]
          },
          "metadata": {
            "tags": [],
            "needs_background": "light"
          }
        }
      ]
    },
    {
      "cell_type": "markdown",
      "metadata": {
        "id": "-RkItQeB1osM"
      },
      "source": [
        "#Гистограмма и плотность расределения для экспоненциального распределения"
      ]
    },
    {
      "cell_type": "code",
      "metadata": {
        "id": "QntiNq3x4nB5",
        "colab": {
          "base_uri": "https://localhost:8080/",
          "height": 369
        },
        "outputId": "a29a1b8c-49f7-482b-f23d-867e443eace3"
      },
      "source": [
        "import numpy as np\n",
        "import matplotlib.pyplot as plt\n",
        "from scipy.stats import expon\n",
        "\n",
        "N = 10000\n",
        "\n",
        "lamda = 1\n",
        "x = np.random.exponential(lamda, N)\n",
        "plt.hist(x, bins=100,density=True)\n",
        "\n",
        "xs = np.arange(0, 10, 0.001)\n",
        "plt.plot(xs, expon.pdf(xs),\"red\")\n",
        "\n",
        "EX=lamda**(-1)\n",
        "DX=lamda**(-2)\n",
        "X_=x.sum()/N\n",
        "print(\"математическое ожидание:\",EX,\"выборочное среднее:\",X_,\"разница:\",abs(EX-X_),sep='\\n')\n",
        "plt.show()"
      ],
      "execution_count": null,
      "outputs": [
        {
          "output_type": "stream",
          "text": [
            "математическое ожидание:\n",
            "1.0\n",
            "выборочное среднее:\n",
            "1.0031249952725676\n",
            "разница:\n",
            "0.003124995272567599\n"
          ],
          "name": "stdout"
        },
        {
          "output_type": "display_data",
          "data": {
            "image/png": "[encoded data removed]",
            "text/plain": [
              "<Figure size 432x288 with 1 Axes>"
            ]
          },
          "metadata": {
            "tags": [],
            "needs_background": "light"
          }
        }
      ]
    },
    {
      "cell_type": "code",
      "metadata": {
        "id": "SnhD67vMSlRA",
        "colab": {
          "base_uri": "https://localhost:8080/",
          "height": 265
        },
        "outputId": "9ec61128-b878-421f-832e-212ca079747c"
      },
      "source": [
        "import numpy as np\n",
        "import matplotlib.pyplot as plt\n",
        "from scipy.stats import norm\n",
        "\n",
        "N = 50\n",
        "\n",
        "xs = np.arange(-3, 3, 0.001)\n",
        "plt.plot(xs, norm.cdf(xs))\n",
        "\n",
        "mu, sigma = 0, 1\n",
        "x = np.random.normal(mu, sigma, N)\n",
        "#plt.hist(x, bins=100)\n",
        "\n",
        "x_var=list(x)+list(x)\n",
        "x_var = np.sort(x_var)\n",
        "x_var = [-3]+list(x_var)+[3]\n",
        "y = np.arange(1, x.size+1) / x.size\n",
        "y1=[0,0]\n",
        "for i in y:\n",
        "  y1.append(i)\n",
        "  y1.append(i)\n",
        "plt.plot(x_var, y1, color=\"red\")\n",
        "\n",
        "plt.show()"
      ],
      "execution_count": null,
      "outputs": [
        {
          "output_type": "display_data",
          "data": {
            "image/png": "[encoded data removed]",
            "text/plain": [
              "<Figure size 432x288 with 1 Axes>"
            ]
          },
          "metadata": {
            "tags": [],
            "needs_background": "light"
          }
        }
      ]
    },
    {
      "cell_type": "markdown",
      "metadata": {
        "id": "cYm3ebju8-Ip"
      },
      "source": [
        "#Задачи на 11.11"
      ]
    },
    {
      "cell_type": "markdown",
      "metadata": {
        "id": "BDVA-nTV9Ihw"
      },
      "source": [
        "1. Для распределения Пуассона $\\lambda$ - это математическое ожидание, а значит можно оценить $\\lambda$ выборочным средним, то есть $\\lambda = \\frac{1}{N}\\sum x_i n_i = \\frac{0+39+80+72+44+35}{130}=\\frac{270}{130}=2\\frac{1}{13}$ "
      ]
    },
    {
      "cell_type": "code",
      "metadata": {
        "id": "riuijIbY9Gq0",
        "colab": {
          "base_uri": "https://localhost:8080/"
        },
        "outputId": "183ecf29-9c53-4757-cf7b-ce0e703c02cb"
      },
      "source": [
        "# 2 задача\n",
        "import numpy as np\n",
        "import matplotlib.pyplot as plt\n",
        "from scipy.stats import norm\n",
        "import math\n",
        "\n",
        "\n",
        "N = 100\n",
        "M = 1000\n",
        "xs = 0.2\n",
        "mu = 3\n",
        "sigma = 1\n",
        "\n",
        "a1 = np.array([])\n",
        "a2 = np.array([])\n",
        "cnt1=0\n",
        "cnt2=0\n",
        "for _ in range(M):\n",
        "    x = np.random.normal(mu, sigma, N)\n",
        "    gl= np.mean(x)-(sigma*norm.ppf(1-0.025))/(N**0.5)\n",
        "    gr= np.mean(x)+(sigma*norm.ppf(1-0.025))/(N**0.5)\n",
        "    if (gl<=mu<=gr):\n",
        "      cnt1+=1\n",
        "    sigma1=(N/(N-1))*np.var(x)\n",
        "    gl= np.mean(x)-(np.sqrt(sigma1)*1.984)/(N**0.5)\n",
        "    gr= np.mean(x)+(np.sqrt(sigma1)*1.984)/(N**0.5)\n",
        "    if (gl<=mu<=gr):\n",
        "      cnt2+=1    \n",
        "print(cnt1,cnt2,M)"
      ],
      "execution_count": null,
      "outputs": [
        {
          "output_type": "stream",
          "text": [
            "963 969 1000\n"
          ],
          "name": "stdout"
        }
      ]
    },
    {
      "cell_type": "markdown",
      "metadata": {
        "id": "aSiv5-mc_LkL"
      },
      "source": [
        "#Проверка гипотез\n"
      ]
    },
    {
      "cell_type": "code",
      "metadata": {
        "id": "r_gQwiqN_Ynz",
        "colab": {
          "base_uri": "https://localhost:8080/",
          "height": 1000
        },
        "outputId": "b1958e4d-6f7c-45da-dc1e-180659c0a3f6"
      },
      "source": [
        "import numpy as np\n",
        "import matplotlib.pyplot as plt\n",
        "from scipy import stats\n",
        "import math\n",
        "\n",
        "N=1000\n",
        "mu1,sigma1 = 3, 1\n",
        "mu2,sigma2 = 2.8, 2\n",
        "\n",
        "x1 = np.random.normal(mu1, sigma1, N)\n",
        "x2 = np.random.normal(mu2, sigma2, N)\n",
        "res = stats.ttest_ind(x1, x2, equal_var=False)\n",
        "print('p-value: ', res[1])\n",
        "plt.hist(x1, bins=100,density=True)\n",
        "plt.hist(x2, bins=100,density=True)"
      ],
      "execution_count": null,
      "outputs": [
        {
          "output_type": "stream",
          "text": [
            "p-value:  0.0006152193020267674\n"
          ],
          "name": "stdout"
        },
        {
          "output_type": "execute_result",
          "data": {
            "text/plain": [
              "(array([0.00792062, 0.        , 0.        , 0.        , 0.        ,\n",
              "        0.        , 0.        , 0.        , 0.        , 0.00792062,\n",
              "        0.00792062, 0.        , 0.00792062, 0.00792062, 0.        ,\n",
              "        0.02376185, 0.00792062, 0.00792062, 0.01584123, 0.03960308,\n",
              "        0.04752369, 0.02376185, 0.01584123, 0.03960308, 0.07128554,\n",
              "        0.04752369, 0.06336493, 0.04752369, 0.03168246, 0.03168246,\n",
              "        0.08712677, 0.08712677, 0.13465047, 0.08712677, 0.11088862,\n",
              "        0.11088862, 0.12672985, 0.14257108, 0.18217416, 0.15841232,\n",
              "        0.12672985, 0.1504917 , 0.11088862, 0.17425355, 0.17425355,\n",
              "        0.26138032, 0.19009478, 0.13465047, 0.22177724, 0.24553909,\n",
              "        0.17425355, 0.14257108, 0.25345971, 0.16633293, 0.1980154 ,\n",
              "        0.13465047, 0.15841232, 0.1980154 , 0.20593601, 0.23761847,\n",
              "        0.1980154 , 0.20593601, 0.16633293, 0.12672985, 0.06336493,\n",
              "        0.17425355, 0.11880924, 0.08712677, 0.11088862, 0.04752369,\n",
              "        0.1504917 , 0.12672985, 0.05544431, 0.06336493, 0.10296801,\n",
              "        0.10296801, 0.08712677, 0.03168246, 0.04752369, 0.05544431,\n",
              "        0.03960308, 0.03960308, 0.06336493, 0.03168246, 0.02376185,\n",
              "        0.00792062, 0.01584123, 0.01584123, 0.01584123, 0.02376185,\n",
              "        0.        , 0.00792062, 0.00792062, 0.        , 0.00792062,\n",
              "        0.02376185, 0.00792062, 0.00792062, 0.00792062, 0.00792062]),\n",
              " array([-3.86980224, -3.74354943, -3.61729662, -3.49104381, -3.364791  ,\n",
              "        -3.23853819, -3.11228538, -2.98603257, -2.85977976, -2.73352695,\n",
              "        -2.60727414, -2.48102133, -2.35476852, -2.22851571, -2.1022629 ,\n",
              "        -1.97601009, -1.84975728, -1.72350447, -1.59725166, -1.47099885,\n",
              "        -1.34474604, -1.21849323, -1.09224042, -0.96598761, -0.8397348 ,\n",
              "        -0.713482  , -0.58722919, -0.46097638, -0.33472357, -0.20847076,\n",
              "        -0.08221795,  0.04403486,  0.17028767,  0.29654048,  0.42279329,\n",
              "         0.5490461 ,  0.67529891,  0.80155172,  0.92780453,  1.05405734,\n",
              "         1.18031015,  1.30656296,  1.43281577,  1.55906858,  1.68532139,\n",
              "         1.8115742 ,  1.93782701,  2.06407982,  2.19033263,  2.31658544,\n",
              "         2.44283825,  2.56909105,  2.69534386,  2.82159667,  2.94784948,\n",
              "         3.07410229,  3.2003551 ,  3.32660791,  3.45286072,  3.57911353,\n",
              "         3.70536634,  3.83161915,  3.95787196,  4.08412477,  4.21037758,\n",
              "         4.33663039,  4.4628832 ,  4.58913601,  4.71538882,  4.84164163,\n",
              "         4.96789444,  5.09414725,  5.22040006,  5.34665287,  5.47290568,\n",
              "         5.59915849,  5.7254113 ,  5.8516641 ,  5.97791691,  6.10416972,\n",
              "         6.23042253,  6.35667534,  6.48292815,  6.60918096,  6.73543377,\n",
              "         6.86168658,  6.98793939,  7.1141922 ,  7.24044501,  7.36669782,\n",
              "         7.49295063,  7.61920344,  7.74545625,  7.87170906,  7.99796187,\n",
              "         8.12421468,  8.25046749,  8.3767203 ,  8.50297311,  8.62922592,\n",
              "         8.75547873]),\n",
              " <a list of 100 Patch objects>)"
            ]
          },
          "metadata": {
            "tags": []
          },
          "execution_count": 4
        },
        {
          "output_type": "display_data",
          "data": {
            "image/png": "[encoded data removed]",
            "text/plain": [
              "<Figure size 432x288 with 1 Axes>"
            ]
          },
          "metadata": {
            "tags": [],
            "needs_background": "light"
          }
        }
      ]
    },
    {
      "cell_type": "code",
      "metadata": {
        "colab": {
          "base_uri": "https://localhost:8080/"
        },
        "id": "EswZRT908weF",
        "outputId": "2f4fe8a1-0cc6-4435-ea9c-87f7814d5755"
      },
      "source": [
        "import pandas as pd\r\n",
        "dat=pd.read_csv(\"regr1.csv\")\r\n",
        "print(dat)"
      ],
      "execution_count": null,
      "outputs": [
        {
          "output_type": "stream",
          "text": [
            "     Unnamed: 0         x1          x2   x3           y\n",
            "0             0  17.486288  185.505167  0.0  161.600365\n",
            "1             1  32.353509  182.540139  0.0  157.077034\n",
            "2             2  20.629644  190.742210  0.0  155.571362\n",
            "3             4  29.396574  169.742980  0.0  147.232886\n",
            "4             5  19.673511  191.574909  0.0  149.530893\n",
            "..          ...        ...         ...  ...         ...\n",
            "301         394  20.961084  168.350854  1.0  160.060027\n",
            "302         395  19.141189  177.993794  1.0  162.620677\n",
            "303         396  27.215210  179.393663  1.0  174.791376\n",
            "304         398  12.732251  155.775347  1.0  141.889609\n",
            "305         399  23.200313  163.472717  1.0  153.432573\n",
            "\n",
            "[306 rows x 5 columns]\n"
          ],
          "name": "stdout"
        }
      ]
    }
  ]
}