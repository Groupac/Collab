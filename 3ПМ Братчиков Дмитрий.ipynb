{
  "nbformat": 4,
  "nbformat_minor": 0,
  "metadata": {
    "colab": {
      "name": "Bratchikov_Dmitry.ipynb",
      "provenance": [],
      "collapsed_sections": [],
      "authorship_tag": "ABX9TyNVMKnSbz4PsnT4VHD4OiHK",
      "include_colab_link": true
    },
    "kernelspec": {
      "name": "python3",
      "display_name": "Python 3"
    }
  },
  "cells": [
    {
      "cell_type": "markdown",
      "metadata": {
        "id": "view-in-github",
        "colab_type": "text"
      },
      "source": [
        "<a href=\"https://colab.research.google.com/github/Groupac/Collab/blob/master/3%D0%9F%D0%9C%20%D0%91%D1%80%D0%B0%D1%82%D1%87%D0%B8%D0%BA%D0%BE%D0%B2%20%D0%94%D0%BC%D0%B8%D1%82%D1%80%D0%B8%D0%B9.ipynb\" target=\"_parent\"><img src=\"https://colab.research.google.com/assets/colab-badge.svg\" alt=\"Open In Colab\"/></a>"
      ]
    },
    {
      "cell_type": "markdown",
      "metadata": {
        "id": "QQVVrBpspE3F"
      },
      "source": [
        "# **Построение графика абсолютно непрерывного равномерного распределения на примере задачки**\n",
        " Условие: Непрерывная случайная величина X задана своей плотностью распределения\n",
        "$$\n",
        "F(x)=\\left\\{%\n",
        "\\begin{array}{ll}\n",
        "    C, & \\hbox{$x \\in (-1;3)$;} \\\\\n",
        "    0, & \\hbox{$x \\notin (-1;3)$;} \\\\\\end{array}%\n",
        "\\right.\n",
        "$$"
      ]
    },
    {
      "cell_type": "code",
      "metadata": {
        "id": "A1kLTZpYpDUG",
        "colab": {
          "base_uri": "https://localhost:8080/",
          "height": 296
        },
        "outputId": "0e14f571-5cb2-47f9-d226-b9f603f0e36d"
      },
      "source": [
        "import matplotlib.pyplot as plt\n",
        "import numpy as np\n",
        "a = -1\n",
        "b = 3\n",
        "C= 1/(b-a)\n",
        "\n",
        "#задаём значение X \n",
        "x1 = np.linspace(-1,3,4)\n",
        "x2 = np.linspace(-10,-1)\n",
        "x3 = np.linspace(3,10)\n",
        "\n",
        "#задаём значения Y на всех участках\n",
        "y1 = [C for i in x1]\n",
        "y2 = [0 for i in x2]\n",
        "y3 = [0 for i in x3]\n",
        "\n",
        "#построение графика плотности распределения\n",
        "plt.subplot(211)\n",
        "plt.xlabel(\"x\")\n",
        "plt.ylabel(\"y\")\n",
        "plt.grid()  \n",
        "plt.plot(x1,y1, color=\"Black\")\n",
        "plt.plot(x2,y2, color=\"Black\")\n",
        "plt.plot(x3,y3, color=\"Black\")\n",
        "\n",
        "#указываем точки на конце, где значение включено\n",
        "plt.scatter(-1,0, color=\"Black\", s=35, marker = \"o\")  \n",
        "plt.scatter(3,0, color=\"Black\", s=35, marker = \"o\")\n",
        "\n",
        "#значени Y для графика распределения\n",
        "y = [C*(i+1) for i in x1]\n",
        "y2 = [0 for i in x2]\n",
        "y3 = [1 for i in x3]\n",
        "\n",
        "#построение графика распределения\n",
        "plt.subplot(212)\n",
        "plt.xlabel(\"x\")\n",
        "plt.ylabel(\"y\")\n",
        "plt.grid()  \n",
        "plt.plot(x1,y, color=\"Black\")\n",
        "plt.plot(x2,y2, color=\"Black\")\n",
        "plt.plot(x3,y3, color=\"Black\")\n",
        "\n"
      ],
      "execution_count": null,
      "outputs": [
        {
          "output_type": "execute_result",
          "data": {
            "text/plain": [
              "[<matplotlib.lines.Line2D at 0x7f176e544c18>]"
            ]
          },
          "metadata": {
            "tags": []
          },
          "execution_count": 75
        },
        {
          "output_type": "display_data",
          "data": {
            "image/png": "[encoded data removed]",
            "text/plain": [
              "<Figure size 432x288 with 2 Axes>"
            ]
          },
          "metadata": {
            "tags": [],
            "needs_background": "light"
          }
        }
      ]
    },
    {
      "cell_type": "markdown",
      "metadata": {
        "id": "BjV7sKg4DAtK"
      },
      "source": [
        "# **Построение графика биноминального распределения с параметрами (n,p)**\n",
        "\n"
      ]
    },
    {
      "cell_type": "code",
      "metadata": {
        "id": "8BYlgMAhEl8e",
        "colab": {
          "base_uri": "https://localhost:8080/",
          "height": 215
        },
        "outputId": "98d9237c-bc2b-40e9-8eb5-7b4a976a3fc6"
      },
      "source": [
        "import matplotlib.pyplot as plt\n",
        "import numpy as np\n",
        "k = []\n",
        "print('Введите p(0<p<1): ')\n",
        "p = float(input())\n",
        "print('Введите n(целое): ')\n",
        "n = int(input())\n",
        "for i in range(n):\n",
        "  k.append(i)\n",
        "\n",
        "#функция нахождения числа сочетаний \n",
        "def C(n, k):\n",
        "    if k == n or k== 0:\n",
        "        return 1\n",
        "    if k != 1:\n",
        "        return C(n-1, k) + C(n-1, k-1)\n",
        "    else:\n",
        "        return n\n",
        "\n",
        "#создаём и заполняем массив значений P(x)\n",
        "y_mas = []\n",
        "for i in range(len(k)):\n",
        "  s = C(n,i)\n",
        "  y_mas.append(round(s*(p**i)*((1-p)**(n-i)),4))\n",
        "\n",
        "#Рисование графика\n",
        "plt.subplot(211)\n",
        "plt.grid()\n",
        "for i in k:\n",
        "  x = np.linspace(0+i,1+i)\n",
        "  y = [y_mas[i] for j in x]\n",
        "  plt.plot(x,y,color=\"Black\")\n",
        "\n",
        "#Окрашивание точек, которые включены\n",
        "for i in range(len(k)):\n",
        "  plt.scatter(k[i],y_mas[i],color=\"Black\",s=35, marker=\"o\")\n",
        "\n",
        "\n"
      ],
      "execution_count": null,
      "outputs": [
        {
          "output_type": "stream",
          "text": [
            "Введите p(0<p<1): \n",
            "0.4\n",
            "Введите n(целое): \n",
            "10\n"
          ],
          "name": "stdout"
        },
        {
          "output_type": "display_data",
          "data": {
            "image/png": "[encoded data removed]",
            "text/plain": [
              "<Figure size 432x288 with 1 Axes>"
            ]
          },
          "metadata": {
            "tags": [],
            "needs_background": "light"
          }
        }
      ]
    },
    {
      "cell_type": "markdown",
      "metadata": {
        "id": "KRamxDKXCrWg"
      },
      "source": [
        "# **Задача 1. Найти параметр  $\\lambda$ методом моментов.**\n",
        "Нам дан объём выборки N = 130.  И таблица $x_i, $n_i\n",
        "\n",
        "  $$ \n",
        "  \\begin {array}{|c|c|c|c|c|c|c|} \n",
        "      \\hline\n",
        "      x_i & 0 & 1 & 2 & 3 & 4 & 5 \\\\\n",
        "      \\hline\n",
        "      n_i & 9 & 39 & 40 & 24 & 11 & 7 \\\\\n",
        "      \\hline \n",
        "  \\end {array}\n",
        "$$\n",
        "\n",
        "Для начала найдём значение эмпирического мат.ожидания(оценку мат.ожидания): \n",
        "        $\\overline X$ =$\\frac{1}{N}$ $\\sum$$x_i$$\\cdot$$n_i$\n",
        "        \n",
        "  $\\overline X$ = $\\frac{1}{130}$$\\cdot$(0+39+80+72+44+35)= $\\frac{270}{130}$  $\\approx$ 2,077\n",
        "\n",
        "Нам известно, что для пуассоновского распределния EX = $\\lambda$.\n",
        "\n",
        "Приравниваем теоретическое мат.ожидание и эмперическое. EX = $\\overline X$. \n",
        "\n",
        "А т.к мат.ожидание равно $\\lambda$, тогда $\\lambda$ = $\\overline X$ = 2,077\n"
      ]
    },
    {
      "cell_type": "code",
      "metadata": {
        "id": "1io4fIizZ6Cr",
        "colab": {
          "base_uri": "https://localhost:8080/"
        },
        "outputId": "675cd485-6005-4c9f-fc79-8abbcae18821"
      },
      "source": [
        "import numpy as np\n",
        "\n",
        "N = 130\n",
        "X_i = np.array([0,1,2,3,4,5])\n",
        "N_i = np.array([9,39,40,24,11,7])\n",
        "print((1/N)*(np.sum(X_i*N_i)))\n"
      ],
      "execution_count": null,
      "outputs": [
        {
          "output_type": "stream",
          "text": [
            "2.076923076923077\n"
          ],
          "name": "stdout"
        }
      ]
    },
    {
      "cell_type": "markdown",
      "metadata": {
        "id": "cLlqR9dzv3eX"
      },
      "source": [
        "# **ДЗ T-test Стьюдента.**"
      ]
    },
    {
      "cell_type": "code",
      "metadata": {
        "colab": {
          "base_uri": "https://localhost:8080/",
          "height": 332
        },
        "id": "tYWzBnIoiGkY",
        "outputId": "9ef7a64a-b553-4ed4-b572-24f534fe8f5b"
      },
      "source": [
        "import numpy as np\n",
        "import matplotlib.pyplot as plt\n",
        "from scipy import stats\n",
        "\n",
        "k=1\n",
        "i=0\n",
        "colors = ['#E69F00', '#56B4E9','#D55E00', '#009E73','#009E73', '#D55E00']\n",
        "\n",
        "for N in [1000,10000,100000]:\n",
        "  \n",
        "  #формируем наши распределения с заданными параметрами mu и sigma\n",
        "  n1 = np.random.normal(0.2,2,N)\n",
        "  n2 = np.random.normal(0.4,3,N)\n",
        "  \n",
        "  #Эти строки создают list color, для задания цветов столбцов, для отличия граф.\n",
        "  color = []\n",
        "  color.append(colors[i])\n",
        "  color.append(colors[i+1])\n",
        "  \n",
        "  #Строим гистограммы для наших нормальных распределений n1 и n2\n",
        "  plt.subplot(1,5,k)\n",
        "  plt.hist([n1,n2], bins=20, color=color)\n",
        "  title = str(N)\n",
        "  plt.title(title)\n",
        "  \n",
        "  #Проводим t-test Стьюдента, чтобы узнать p-значение\n",
        "  test = stats.ttest_ind(n1,n2)\n",
        "  print('При выборке N=', N ,'p-значение:', test[1])\n",
        "\n",
        "  k+=2\n",
        "  i+=2\n",
        "\n"
      ],
      "execution_count": 106,
      "outputs": [
        {
          "output_type": "stream",
          "text": [
            "При выборке N= 1000 p-значение: 0.031442120387560835\n",
            "При выборке N= 10000 p-значение: 1.738421946686958e-10\n",
            "При выборке N= 100000 p-значение: 3.967039893393917e-62\n"
          ],
          "name": "stdout"
        },
        {
          "output_type": "display_data",
          "data": {
            "image/png": "[encoded data removed]",
            "text/plain": [
              "<Figure size 432x288 with 3 Axes>"
            ]
          },
          "metadata": {
            "tags": [],
            "needs_background": "light"
          }
        }
      ]
    }
  ]
}