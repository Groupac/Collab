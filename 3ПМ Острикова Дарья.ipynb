{
  "nbformat": 4,
  "nbformat_minor": 0,
  "metadata": {
    "colab": {
      "name": "Notebook1.ipynb",
      "provenance": [],
      "authorship_tag": "ABX9TyOZuNG6+LsGjtwK2eszgTDo",
      "include_colab_link": true
    },
    "kernelspec": {
      "name": "python3",
      "display_name": "Python 3"
    }
  },
  "cells": [
    {
      "cell_type": "markdown",
      "metadata": {
        "id": "view-in-github",
        "colab_type": "text"
      },
      "source": [
        "<a href=\"https://colab.research.google.com/github/Groupac/Collab/blob/master/3%D0%9F%D0%9C%20%D0%9E%D1%81%D1%82%D1%80%D0%B8%D0%BA%D0%BE%D0%B2%D0%B0%20%D0%94%D0%B0%D1%80%D1%8C%D1%8F.ipynb\" target=\"_parent\"><img src=\"https://colab.research.google.com/assets/colab-badge.svg\" alt=\"Open In Colab\"/></a>"
      ]
    },
    {
      "cell_type": "markdown",
      "metadata": {
        "id": "Qpnooza2rQ3T"
      },
      "source": [
        "# Задача 1\n",
        "\n",
        "Число семян сорняков в пробах зерна подчинено закону Пуассона. Имеется выборка N = 130 проб зерна. Результаты записаны в таблице. Найти параметр λ по выборке методом моментов. \n",
        "\n",
        "![tab.png](data:image/png;base64,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)\n",
        "\n"
      ]
    },
    {
      "cell_type": "markdown",
      "metadata": {
        "id": "Axu6VCrb0Pwl"
      },
      "source": [
        "## Решение"
      ]
    },
    {
      "cell_type": "markdown",
      "metadata": {
        "id": "5dwTUNuC6Cny"
      },
      "source": [
        "Параметр λ для закона Пуассона – это математическое ожидание, которое\n",
        "по методу моментов оценивается первым выборочным моментом. \n",
        "$$λ = \\frac{1}{N}\\sum x_in_i.$$"
      ]
    },
    {
      "cell_type": "code",
      "metadata": {
        "id": "Ugd9EhNhz3vK",
        "outputId": "d908de5f-8b94-4033-ff1d-eb6a36261dde",
        "colab": {
          "base_uri": "https://localhost:8080/"
        }
      },
      "source": [
        "sum = 0\n",
        "N = 130\n",
        "x = [0, 1, 2, 3, 4, 5]\n",
        "n = [9, 39, 40, 24, 11, 7]\n",
        "for i in x:\n",
        "    sum += x[i]*n[i]\n",
        "l = 1/N * sum\n",
        "print(l)"
      ],
      "execution_count": null,
      "outputs": [
        {
          "output_type": "stream",
          "text": [
            "2.076923076923077\n"
          ],
          "name": "stdout"
        }
      ]
    },
    {
      "cell_type": "markdown",
      "metadata": {
        "id": "_rigRhmdtKv0"
      },
      "source": [
        "# Задача 2\n",
        "\n",
        "Сгенерировать выборку N = 100 из нормального распределения с параметрами mu = 3, sigma = 1. Исходя из предположения о неизвестности параметра mu и известности параметра sigma, составить доверительный интервал уровня доверия (1-0,05) для mu. Результат отобразить графически с использованием библиотеки matplotlib."
      ]
    },
    {
      "cell_type": "code",
      "metadata": {
        "id": "KIeqk_pw9Ru3"
      },
      "source": [
        ""
      ],
      "execution_count": null,
      "outputs": []
    }
  ]
}