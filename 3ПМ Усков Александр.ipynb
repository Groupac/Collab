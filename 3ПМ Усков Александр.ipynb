{
  "nbformat": 4,
  "nbformat_minor": 0,
  "metadata": {
    "colab": {
      "name": "HomeWork.ipynb",
      "provenance": [],
      "authorship_tag": "ABX9TyObkq7E83o7lv1H60cIkvRD",
      "include_colab_link": true
    },
    "kernelspec": {
      "name": "python3",
      "display_name": "Python 3"
    }
  },
  "cells": [
    {
      "cell_type": "markdown",
      "metadata": {
        "id": "fU0YcaQqDppa",
        "colab_type": "text"
      },
      "source": [
        "# Домашнее задание 1\n"
      ]
    },
    {
      "source": [
        "## Задача 1.\n",
        "Число семян сорняков в пробах зерна подчинено закону Пуассона. Имеется выборка N = 130 проб зерна. Результаты записаны в таблице. Найти параметр λ по выборке методом моментов. \n",
        "\n",
        "$$ \n",
        "  \\begin {array}{|c|c|c|c|c|c|c|} \n",
        "      \\hline\n",
        "      x_i & 0 & 1 & 2 & 3 & 4 & 5 \\\\\n",
        "      \\hline\n",
        "      n_i & 9 & 39 & 40 & 24 & 11 & 7 \\\\\n",
        "      \\hline \n",
        "  \\end {array}\n",
        "$$\n",
        "\n"
      ],
      "cell_type": "markdown",
      "metadata": {}
    },
    {
      "cell_type": "code",
      "execution_count": 6,
      "metadata": {},
      "outputs": [
        {
          "output_type": "stream",
          "name": "stdout",
          "text": [
            "2.076923076923077\n"
          ]
        }
      ],
      "source": [
        "import numpy as np\n",
        "import matplotlib.pyplot as plt\n",
        "from scipy.stats import norm\n",
        "import math\n",
        "\n",
        "# Общее количество\n",
        "N = 130\n",
        "\n",
        "# Выборка\n",
        "a = np.array([9,39,40,24,11,7])\n",
        "\n",
        "\n",
        "sum = 0\n",
        "for x in range(0,6):\n",
        "    sum=sum+x*a[x]\n",
        "    \n",
        "alpha = sum*(1/N)\n",
        "\n",
        "print(alpha)\n"
      ]
    },
    {
      "source": [
        "## Задача 2.\n",
        "Сгенерировать выборку N = 100 из нормального распределения с параметрами mu = 3, sigma = 1. Исходя из предположения о неизвестности параметра mu и известности параметра sigma, составить доверительный интервал уровня доверия (1-0,05) для mu. Результат отобразить графически с использованием библиотеки matplotlib."
      ],
      "cell_type": "markdown",
      "metadata": {}
    },
    {
      "source": [
        "## Задача 3* (google в помощь).\n",
        "\n",
        "Сгенерировать выборку N = 100 из нормального распределения с параметрами mu = 3, sigma = 1. Исходя из предположения о неизвестности параметра mu и неизвестности параметра sigma, составить доверительный интервал уровня доверия (1-0,05) для mu. Результат отобразить графически с использованием библиотеки matplotlib.\n"
      ],
      "cell_type": "markdown",
      "metadata": {}
    },
    {
      "cell_type": "code",
      "execution_count": null,
      "metadata": {},
      "outputs": [],
      "source": []
    }
  ]
}