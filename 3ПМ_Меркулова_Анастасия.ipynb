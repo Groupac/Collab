{
  "nbformat": 4,
  "nbformat_minor": 0,
  "metadata": {
    "colab": {
      "name": "3ПМ Меркулова Анастасия.ipynb",
      "provenance": [],
      "authorship_tag": "ABX9TyPfcKNRoYSTbyo1vZvAonPs",
      "include_colab_link": true
    },
    "kernelspec": {
      "name": "python3",
      "display_name": "Python 3"
    }
  },
  "cells": [
    {
      "cell_type": "markdown",
      "metadata": {
        "id": "view-in-github",
        "colab_type": "text"
      },
      "source": [
        "<a href=\"https://colab.research.google.com/github/Groupac/Collab/blob/master/3%D0%9F%D0%9C_%D0%9C%D0%B5%D1%80%D0%BA%D1%83%D0%BB%D0%BE%D0%B2%D0%B0_%D0%90%D0%BD%D0%B0%D1%81%D1%82%D0%B0%D1%81%D0%B8%D1%8F.ipynb\" target=\"_parent\"><img src=\"https://colab.research.google.com/assets/colab-badge.svg\" alt=\"Open In Colab\"/></a>"
      ]
    },
    {
      "cell_type": "markdown",
      "metadata": {
        "id": "qz95pIOcjr0P"
      },
      "source": [
        "# **Задача 1.**\n",
        "Число семян сорняков в пробах зерна подчинено закону Пуассона. Имеется выборка N = 130 проб зерна. Результаты записаны в таблице. Найти параметр λ по выборке методом моментов.\n",
        "\n",
        "$$ \n",
        "  \\begin {array}{|c|c|c|c|c|c|c|} \n",
        "      \\hline\n",
        "      x_i & 0 & 1 & 2 & 3 & 4 & 5 \\\\\n",
        "      \\hline\n",
        "      n_i & 9 & 39 & 40 & 24 & 11 & 7 \\\\\n",
        "      \\hline \n",
        "  \\end {array}\n",
        "$$\n",
        "\n",
        " \n",
        "\n",
        "\n"
      ]
    },
    {
      "cell_type": "markdown",
      "metadata": {
        "id": "QpABRgTDXnFI"
      },
      "source": [
        "Формула Пуассона имеет вид:\n",
        "$\\ $$P_n(k)$ = $\\frac{\\lambda^k*e^-\\lambda}{k!}$\n",
        "где  λ=n·p,\n",
        "\n",
        "Числовые характеристики:\n",
        "M(X) = λ - мат.ожидание D(X) = λ - дисперсия\n",
        "\n",
        "Мат.ожидание находится по формуле:\n",
        "$\\ M[X]$ = $\\sum$$x_i$$\\cdot$$p_i$\n",
        "\n",
        "$$ \n",
        "  \\begin {array}{|c|c|c|c|c|c|c|} \n",
        "      \\hline\n",
        "      x_i & 0 & 1 & 2 & 3 & 4 & 5 & Сумма\\\\\n",
        "      \\hline\n",
        "      n_i & 9 & 39 & 40 & 24 & 11 & 7 & 130\\\\\n",
        "      \\hline \n",
        "      x_i*n_i & 0 & 39 & 80 & 72 & 44 & 35 & 270\\\\\n",
        "      \\hline \n",
        "  \\end {array}\n",
        "$$\n"
      ]
    },
    {
      "cell_type": "markdown",
      "metadata": {
        "id": "AZ9SQorKkM-A"
      },
      "source": [
        "# **Задача 2.**\n",
        "Сгенерировать выборку N = 100 из нормального распределения с параметрами mu = 3, sigma = 1. Исходя из предположения о неизвестности параметра mu и известности параметра sigma, составить доверительный интервал уровня доверия (1-0,05) для mu. Результат отобразить графически с использованием библиотеки matplotlib.\n",
        "\n",
        "\n"
      ]
    },
    {
      "cell_type": "markdown",
      "metadata": {
        "id": "EZno7_qQXPpO"
      },
      "source": [
        ""
      ]
    },
    {
      "cell_type": "markdown",
      "metadata": {
        "id": "l_qTX7mSkYng"
      },
      "source": [
        "# **Задача 3.**  \n",
        "Сгенерировать выборку N = 100 из нормального распределения с параметрами mu = 3, sigma = 1. Исходя из предположения о неизвестности параметра mu и неизвестности параметра sigma, составить доверительный интервал уровня доверия (1-0,05) для mu. Результат отобразить графически с использованием библиотеки matplotlib.\n",
        "\n",
        "\n"
      ]
    }
  ]
}